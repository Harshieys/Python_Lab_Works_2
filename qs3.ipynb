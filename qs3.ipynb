{
 "cells": [
  {
   "cell_type": "code",
   "execution_count": 1,
   "metadata": {},
   "outputs": [
    {
     "name": "stdout",
     "output_type": "stream",
     "text": [
      "nythoP\n"
     ]
    }
   ],
   "source": [
    "#Create a string from the given string where the first and last character are exchanged.\n",
    "#Eg: Python ⇒ nythoP\n",
    "\n",
    "string=\"Python\"\n",
    "x=list(string)\n",
    "temp=x[0]\n",
    "x[0]=x[-1]\n",
    "x[-1]=temp\n",
    "print(\"\".join(x))"
   ]
  },
  {
   "cell_type": "code",
   "execution_count": null,
   "metadata": {},
   "outputs": [],
   "source": []
  }
 ],
 "metadata": {
  "kernelspec": {
   "display_name": "Python 3",
   "language": "python",
   "name": "python3"
  },
  "language_info": {
   "codemirror_mode": {
    "name": "ipython",
    "version": 3
   },
   "file_extension": ".py",
   "mimetype": "text/x-python",
   "name": "python",
   "nbconvert_exporter": "python",
   "pygments_lexer": "ipython3",
   "version": "3.7.3"
  }
 },
 "nbformat": 4,
 "nbformat_minor": 2
}
