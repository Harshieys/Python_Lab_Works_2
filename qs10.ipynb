{
 "cells": [
  {
   "cell_type": "code",
   "execution_count": 2,
   "metadata": {},
   "outputs": [
    {
     "name": "stdout",
     "output_type": "stream",
     "text": [
      "Original set elements:\n",
      "{'Black', 'Red', 'White'}\n",
      "{'Green', 'Red'}\n",
      "\n",
      "Elements in list 1 and not in list 2:\n",
      "{'Black', 'White'}\n"
     ]
    }
   ],
   "source": [
    "#Write a python program to read two lists color-list1 and color-list2. Print out all colors\n",
    "#from color-list1 not contained in color-list2.\n",
    "\n",
    "clr1 = set([\"White\", \"Black\", \"Red\"])\n",
    "clr2 = set([\"Red\", \"Green\"])\n",
    "print(\"Original set elements:\")\n",
    "print(clr1)\n",
    "print(clr2)\n",
    "print(\"\\nElements in list 1 and not in list 2:\")\n",
    "print(clr1.difference(clr2))"
   ]
  },
  {
   "cell_type": "code",
   "execution_count": null,
   "metadata": {},
   "outputs": [],
   "source": []
  }
 ],
 "metadata": {
  "kernelspec": {
   "display_name": "Python 3",
   "language": "python",
   "name": "python3"
  },
  "language_info": {
   "codemirror_mode": {
    "name": "ipython",
    "version": 3
   },
   "file_extension": ".py",
   "mimetype": "text/x-python",
   "name": "python",
   "nbconvert_exporter": "python",
   "pygments_lexer": "ipython3",
   "version": "3.7.3"
  }
 },
 "nbformat": 4,
 "nbformat_minor": 2
}
