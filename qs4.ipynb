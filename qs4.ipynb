{
 "cells": [
  {
   "cell_type": "code",
   "execution_count": 2,
   "metadata": {},
   "outputs": [
    {
     "name": "stdin",
     "output_type": "stream",
     "text": [
      "Enter the number of elements in list: 4\n",
      "Enter the element: 23\n",
      "Enter the element: 59\n",
      "Enter the element: 134\n",
      "Enter the element: 87\n"
     ]
    },
    {
     "name": "stdout",
     "output_type": "stream",
     "text": [
      "List is: [23, 59, 134, 87]\n",
      "Result: [23, 59, 'over', 87]\n"
     ]
    }
   ],
   "source": [
    "#Write a program to prompt the user for a list of integers. For all values greater than 100,\n",
    "#store ‘over’ instead.\n",
    "\n",
    "listA=[]\n",
    "n=int(input(\"Enter the number of elements in list:\"))\n",
    "for i in range(0,n):\n",
    "    ele=int(input(\"Enter the element:\"))\n",
    "    listA.append(ele)\n",
    "print(\"List is:\",listA)\n",
    "for i in range(n):\n",
    "    if(listA[i]>100):\n",
    "        listA[i]='over'\n",
    "print(\"Result:\",listA)"
   ]
  },
  {
   "cell_type": "code",
   "execution_count": null,
   "metadata": {},
   "outputs": [],
   "source": []
  }
 ],
 "metadata": {
  "kernelspec": {
   "display_name": "Python 3",
   "language": "python",
   "name": "python3"
  },
  "language_info": {
   "codemirror_mode": {
    "name": "ipython",
    "version": 3
   },
   "file_extension": ".py",
   "mimetype": "text/x-python",
   "name": "python",
   "nbconvert_exporter": "python",
   "pygments_lexer": "ipython3",
   "version": "3.7.3"
  }
 },
 "nbformat": 4,
 "nbformat_minor": 2
}
