{
 "cells": [
  {
   "cell_type": "code",
   "execution_count": 3,
   "metadata": {},
   "outputs": [
    {
     "name": "stdin",
     "output_type": "stream",
     "text": [
      "Enter words:  harsh,shh,ajuuu,jhsj\n"
     ]
    },
    {
     "name": "stdout",
     "output_type": "stream",
     "text": [
      "The longest item is harsh & the length of word is 5\n"
     ]
    }
   ],
   "source": [
    "#Accept a list of words and return the length of the longest word.\n",
    "\n",
    "list=input('Enter words: ')\n",
    "list=list.split(',')\n",
    "max=len(list[0])\n",
    "item=list[0]\n",
    "for i in list:\n",
    "    if len(i)>max:\n",
    "        max=len(i)\n",
    "        item=i\n",
    "        \n",
    "print(f'The longest item is {item} & the length of word is {max}')"
   ]
  },
  {
   "cell_type": "code",
   "execution_count": null,
   "metadata": {},
   "outputs": [],
   "source": []
  }
 ],
 "metadata": {
  "kernelspec": {
   "display_name": "Python 3",
   "language": "python",
   "name": "python3"
  },
  "language_info": {
   "codemirror_mode": {
    "name": "ipython",
    "version": 3
   },
   "file_extension": ".py",
   "mimetype": "text/x-python",
   "name": "python",
   "nbconvert_exporter": "python",
   "pygments_lexer": "ipython3",
   "version": "3.7.3"
  }
 },
 "nbformat": 4,
 "nbformat_minor": 2
}
