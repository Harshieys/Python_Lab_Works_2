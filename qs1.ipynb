{
 "cells": [
  {
   "cell_type": "code",
   "execution_count": 2,
   "metadata": {},
   "outputs": [
    {
     "name": "stdin",
     "output_type": "stream",
     "text": [
      "Enter first number  :  32\n",
      "Enter second number :  1\n",
      "Enter third number  :  33\n"
     ]
    },
    {
     "name": "stdout",
     "output_type": "stream",
     "text": [
      "33 is the largest of three numbers.\n"
     ]
    }
   ],
   "source": [
    "#Find biggest of 3 numbers entered.\n",
    "\n",
    "a = int(input('Enter first number  : '))\n",
    "b = int(input('Enter second number : '))\n",
    "c = int(input('Enter third number  : '))\n",
    "\n",
    "largest = 0\n",
    "\n",
    "if a > b and a > c:\n",
    "    largest = a\n",
    "if b > a and b > c:\n",
    "    largest = b\n",
    "if c > a and c > b:\n",
    "    largest = c\n",
    "\n",
    "print(largest, \"is the largest of three numbers.\")"
   ]
  },
  {
   "cell_type": "markdown",
   "metadata": {},
   "source": []
  }
 ],
 "metadata": {
  "kernelspec": {
   "display_name": "Python 3",
   "language": "python",
   "name": "python3"
  },
  "language_info": {
   "codemirror_mode": {
    "name": "ipython",
    "version": 3
   },
   "file_extension": ".py",
   "mimetype": "text/x-python",
   "name": "python",
   "nbconvert_exporter": "python",
   "pygments_lexer": "ipython3",
   "version": "3.7.3"
  }
 },
 "nbformat": 4,
 "nbformat_minor": 2
}
