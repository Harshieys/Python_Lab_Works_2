{
 "cells": [
  {
   "cell_type": "code",
   "execution_count": 9,
   "metadata": {},
   "outputs": [
    {
     "name": "stdin",
     "output_type": "stream",
     "text": [
      "Enter elements: 12,-3,0,5,-6\n"
     ]
    },
    {
     "name": "stdout",
     "output_type": "stream",
     "text": [
      "Positive Numbers: [12, 5]\n"
     ]
    },
    {
     "name": "stdin",
     "output_type": "stream",
     "text": [
      "Enter the limit: 8\n"
     ]
    },
    {
     "name": "stdout",
     "output_type": "stream",
     "text": [
      "Squares upto 8: [0, 1, 4, 9, 16, 25, 36, 49, 64]\n"
     ]
    },
    {
     "name": "stdin",
     "output_type": "stream",
     "text": [
      "Enter a string:  harshitha\n"
     ]
    },
    {
     "name": "stdout",
     "output_type": "stream",
     "text": [
      "['a', 'i']\n"
     ]
    },
    {
     "name": "stdin",
     "output_type": "stream",
     "text": [
      "Enter a string:  harsh\n"
     ]
    },
    {
     "name": "stdout",
     "output_type": "stream",
     "text": [
      "[104, 97, 114, 115, 104]\n"
     ]
    }
   ],
   "source": [
    "#List comprehensions:\n",
    "#(a) Generate positive list of numbers from a given list of integers\n",
    "#(b) Square of N numbers\n",
    "#(c) Form a list of vowels selected from a given word\n",
    "#(d) Form a list ordinal value of each element of a word (Hint: use ord() to get ordinal\n",
    "#values)\n",
    "\n",
    "#(a)\n",
    "list1=[int(x) for x in input(\"Enter elements:\").split(',')]\n",
    "list2=[i for i in list1 if i>0]\n",
    "print(\"Positive Numbers:\",list2)\n",
    "\n",
    "#(b)\n",
    "num=int(input(\"Enter the limit:\"))\n",
    "sq=[i*i for i in range(0,num+1)]\n",
    "print(f\"Squares upto {num}:\",sq)\n",
    "\n",
    "#(c)\n",
    "vowels=['a','e','i','o','u']\n",
    "str=input('Enter a string: ')\n",
    "vowel_list=[i for i in set(str) if i in vowels]\n",
    "print(vowel_list)\n",
    "\n",
    "#(d)\n",
    "str=input('Enter a string: ')\n",
    "ordinal=[ord(i) for i in str]\n",
    "print(ordinal)"
   ]
  },
  {
   "cell_type": "code",
   "execution_count": null,
   "metadata": {},
   "outputs": [],
   "source": []
  }
 ],
 "metadata": {
  "kernelspec": {
   "display_name": "Python 3",
   "language": "python",
   "name": "python3"
  },
  "language_info": {
   "codemirror_mode": {
    "name": "ipython",
    "version": 3
   },
   "file_extension": ".py",
   "mimetype": "text/x-python",
   "name": "python",
   "nbconvert_exporter": "python",
   "pygments_lexer": "ipython3",
   "version": "3.7.3"
  }
 },
 "nbformat": 4,
 "nbformat_minor": 2
}
