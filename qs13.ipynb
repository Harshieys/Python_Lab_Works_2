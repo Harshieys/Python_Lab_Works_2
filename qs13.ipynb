{
 "cells": [
  {
   "cell_type": "code",
   "execution_count": 4,
   "metadata": {},
   "outputs": [
    {
     "name": "stdin",
     "output_type": "stream",
     "text": [
      "Enter String: harshitha\n"
     ]
    },
    {
     "name": "stdout",
     "output_type": "stream",
     "text": [
      "The count of all characters:\n",
      "{'i': 1, 's': 1, 't': 1, 'a': 2, 'h': 3, 'r': 1}\n"
     ]
    }
   ],
   "source": [
    "#Count the number of characters (character frequency) in a string.\n",
    "\n",
    "str1 =input(\"Enter String:\")\n",
    "res = {i : str1.count(i) for i in set(str1)}\n",
    "print (\"The count of all characters:\\n\"+ str(res))"
   ]
  }
 ],
 "metadata": {
  "kernelspec": {
   "display_name": "Python 3",
   "language": "python",
   "name": "python3"
  },
  "language_info": {
   "codemirror_mode": {
    "name": "ipython",
    "version": 3
   },
   "file_extension": ".py",
   "mimetype": "text/x-python",
   "name": "python",
   "nbconvert_exporter": "python",
   "pygments_lexer": "ipython3",
   "version": "3.7.3"
  }
 },
 "nbformat": 4,
 "nbformat_minor": 2
}
