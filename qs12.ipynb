{
 "cells": [
  {
   "cell_type": "code",
   "execution_count": 9,
   "metadata": {},
   "outputs": [
    {
     "name": "stdin",
     "output_type": "stream",
     "text": [
      "Enter the list of numbers: 10246,45,467\n"
     ]
    },
    {
     "name": "stdout",
     "output_type": "stream",
     "text": [
      "Orginal List: [10246, 45, 467]\n",
      "After removing Even Numbers: [45, 467]\n"
     ]
    }
   ],
   "source": [
    "#From a list of integers, create a list after removing even numbers.\n",
    "\n",
    "list1=[int(x) for x in input(\"Enter the list of numbers:\").split(',')]\n",
    "print(\"Orginal List:\",list1)\n",
    "\n",
    "for i in list1:\n",
    "    if(i%2 == 0):\n",
    "        list1.remove(i)\n",
    "print(\"After removing Even Numbers:\",list1)"
   ]
  }
 ],
 "metadata": {
  "kernelspec": {
   "display_name": "Python 3",
   "language": "python",
   "name": "python3"
  },
  "language_info": {
   "codemirror_mode": {
    "name": "ipython",
    "version": 3
   },
   "file_extension": ".py",
   "mimetype": "text/x-python",
   "name": "python",
   "nbconvert_exporter": "python",
   "pygments_lexer": "ipython3",
   "version": "3.7.3"
  }
 },
 "nbformat": 4,
 "nbformat_minor": 2
}
