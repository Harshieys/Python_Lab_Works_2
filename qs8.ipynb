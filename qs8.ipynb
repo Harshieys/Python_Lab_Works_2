{
 "cells": [
  {
   "cell_type": "code",
   "execution_count": 5,
   "metadata": {},
   "outputs": [
    {
     "name": "stdout",
     "output_type": "stream",
     "text": [
      "The original string is : onion\n",
      "Replaced String : oni$n\n"
     ]
    }
   ],
   "source": [
    "#Get a string from an input string where all occurrences of the first character are replaced\n",
    "#with ‘$’, except the first character. [eg: onion -> oni$n]\n",
    "\n",
    "str1 = 'onion'\n",
    "print(\"The original string is : \" + str(str1))\n",
    "\n",
    "K = '$'\n",
    "res = str1[0] + str1[1:].replace(str1[0], K)\n",
    "print(\"Replaced String : \" + str(res))"
   ]
  },
  {
   "cell_type": "code",
   "execution_count": null,
   "metadata": {},
   "outputs": [],
   "source": []
  }
 ],
 "metadata": {
  "kernelspec": {
   "display_name": "Python 3",
   "language": "python",
   "name": "python3"
  },
  "language_info": {
   "codemirror_mode": {
    "name": "ipython",
    "version": 3
   },
   "file_extension": ".py",
   "mimetype": "text/x-python",
   "name": "python",
   "nbconvert_exporter": "python",
   "pygments_lexer": "ipython3",
   "version": "3.7.3"
  }
 },
 "nbformat": 4,
 "nbformat_minor": 2
}
