{
 "cells": [
  {
   "cell_type": "code",
   "execution_count": 12,
   "metadata": {},
   "outputs": [
    {
     "name": "stdin",
     "output_type": "stream",
     "text": [
      "Enter colours: red,blue,green,yellow\n"
     ]
    },
    {
     "name": "stdout",
     "output_type": "stream",
     "text": [
      "First Color: red  and Last Color: yellow\n"
     ]
    }
   ],
   "source": [
    "#Create a list of colors from comma-separated color names entered by the user. Display\n",
    "#first and last colors.\n",
    "\n",
    "Clr=input(\"Enter colours:\")\n",
    "sc=Clr.split(',')\n",
    "print(\"First Color:\",sc[0],\" and Last Color:\", sc[-1])"
   ]
  }
 ],
 "metadata": {
  "kernelspec": {
   "display_name": "Python 3",
   "language": "python",
   "name": "python3"
  },
  "language_info": {
   "codemirror_mode": {
    "name": "ipython",
    "version": 3
   },
   "file_extension": ".py",
   "mimetype": "text/x-python",
   "name": "python",
   "nbconvert_exporter": "python",
   "pygments_lexer": "ipython3",
   "version": "3.7.3"
  }
 },
 "nbformat": 4,
 "nbformat_minor": 2
}
