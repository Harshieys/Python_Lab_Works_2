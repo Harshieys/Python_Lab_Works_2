{
 "cells": [
  {
   "cell_type": "code",
   "execution_count": 9,
   "metadata": {},
   "outputs": [
    {
     "name": "stdin",
     "output_type": "stream",
     "text": [
      "Please Enter First String :  hello\n",
      "Please Enter Second String :  world\n"
     ]
    },
    {
     "name": "stdout",
     "output_type": "stream",
     "text": [
      "hollo werld\n"
     ]
    }
   ],
   "source": [
    "#Create a single string separated with space from two strings by swapping the character\n",
    "#at position 1.\n",
    "#Eg : str1 = “Hello” str2 =”World” , then create a string str3 = “Hollo Werld” [Hint: use\n",
    "#slicing and concatenation ]\n",
    "\n",
    "str1 = input(\"Please Enter First String : \")\n",
    "str2 =input(\"Please Enter Second String : \")\n",
    "\n",
    "x = str1[0:1] + str2[1:2] + str1[2:]\n",
    "y = str2[0:1] + str1[1:2] + str2[2:]\n",
    "\n",
    "str3=x+\" \"+y\n",
    "print(str3)"
   ]
  },
  {
   "cell_type": "code",
   "execution_count": null,
   "metadata": {},
   "outputs": [],
   "source": []
  }
 ],
 "metadata": {
  "kernelspec": {
   "display_name": "Python 3",
   "language": "python",
   "name": "python3"
  },
  "language_info": {
   "codemirror_mode": {
    "name": "ipython",
    "version": 3
   },
   "file_extension": ".py",
   "mimetype": "text/x-python",
   "name": "python",
   "nbconvert_exporter": "python",
   "pygments_lexer": "ipython3",
   "version": "3.7.3"
  }
 },
 "nbformat": 4,
 "nbformat_minor": 2
}
