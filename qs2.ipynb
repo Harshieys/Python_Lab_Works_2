{
 "cells": [
  {
   "cell_type": "code",
   "execution_count": 2,
   "metadata": {},
   "outputs": [
    {
     "name": "stdin",
     "output_type": "stream",
     "text": [
      "Enter a number n:  23\n"
     ]
    },
    {
     "name": "stdout",
     "output_type": "stream",
     "text": [
      "The value is: 234669\n"
     ]
    }
   ],
   "source": [
    "#Accept an integer n and compute n+nn+nnn.\n",
    "#[Hint : n = 5, then compute 5 + 55 + 555]\n",
    "\n",
    "n=int(input(\"Enter a number n: \"))\n",
    "temp=str(n)\n",
    "t1=temp+temp\n",
    "t2=temp+temp+temp\n",
    "comp=n+int(t1)+int(t2)\n",
    "print(\"The value is:\",comp)"
   ]
  },
  {
   "cell_type": "markdown",
   "metadata": {},
   "source": [
    "1. Take the value of a element and store in a variable n.\n",
    "2. Convert the integer into string and store it in another variable.\n",
    "3. Add the string twice so the string gets concatenated and store it in another variable.\n",
    "4. Then add the string thrice and assign the value to the third variable.\n",
    "5. Convert the strings in the second and third variables into integers.\n",
    "6. Add the values in all the integers.\n",
    "7. Print the total value of the expression.\n",
    "8. Exit."
   ]
  }
 ],
 "metadata": {
  "kernelspec": {
   "display_name": "Python 3",
   "language": "python",
   "name": "python3"
  },
  "language_info": {
   "codemirror_mode": {
    "name": "ipython",
    "version": 3
   },
   "file_extension": ".py",
   "mimetype": "text/x-python",
   "name": "python",
   "nbconvert_exporter": "python",
   "pygments_lexer": "ipython3",
   "version": "3.7.3"
  }
 },
 "nbformat": 4,
 "nbformat_minor": 2
}
