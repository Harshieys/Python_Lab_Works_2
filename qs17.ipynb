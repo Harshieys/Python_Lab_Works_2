{
 "cells": [
  {
   "cell_type": "code",
   "execution_count": 4,
   "metadata": {},
   "outputs": [
    {
     "name": "stdin",
     "output_type": "stream",
     "text": [
      "enter a number of elements in the dict:  4\n",
      "Enter key : carl\n",
      "Enter values : 12\n",
      "Enter key : alan\n",
      "Enter values : 67\n",
      "Enter key : ben\n",
      "Enter values : 88\n",
      "Enter key : danny\n",
      "Enter values : 68\n"
     ]
    },
    {
     "name": "stdout",
     "output_type": "stream",
     "text": [
      "{'carl': '12', 'alan': '67', 'ben': '88', 'danny': '68'}\n",
      "Ascending order is [('alan', '67'), ('ben', '88'), ('carl', '12'), ('danny', '68')]\n",
      "Descending order is [('danny', '68'), ('carl', '12'), ('ben', '88'), ('alan', '67')]\n"
     ]
    },
    {
     "ename": "TypeError",
     "evalue": "'dict' object is not callable",
     "output_type": "error",
     "traceback": [
      "\u001b[1;31m---------------------------------------------------------------------------\u001b[0m",
      "\u001b[1;31mTypeError\u001b[0m                                 Traceback (most recent call last)",
      "\u001b[1;32m<ipython-input-4-b2130cee6a2a>\u001b[0m in \u001b[0;36m<module>\u001b[1;34m\u001b[0m\n\u001b[0;32m     16\u001b[0m \u001b[0mprint\u001b[0m\u001b[1;33m(\u001b[0m\u001b[1;34m'Descending order is'\u001b[0m\u001b[1;33m,\u001b[0m\u001b[0ml\u001b[0m\u001b[1;33m)\u001b[0m\u001b[1;33m\u001b[0m\u001b[1;33m\u001b[0m\u001b[0m\n\u001b[0;32m     17\u001b[0m \u001b[1;33m\u001b[0m\u001b[0m\n\u001b[1;32m---> 18\u001b[1;33m \u001b[0mdict\u001b[0m\u001b[1;33m=\u001b[0m\u001b[0mdict\u001b[0m\u001b[1;33m(\u001b[0m\u001b[0ml\u001b[0m\u001b[1;33m)\u001b[0m \u001b[1;31m# convert the list in dictionary\u001b[0m\u001b[1;33m\u001b[0m\u001b[1;33m\u001b[0m\u001b[0m\n\u001b[0m\u001b[0;32m     19\u001b[0m \u001b[1;33m\u001b[0m\u001b[0m\n\u001b[0;32m     20\u001b[0m \u001b[0mprint\u001b[0m\u001b[1;33m(\u001b[0m\u001b[1;34m\"Dictionary\"\u001b[0m\u001b[1;33m,\u001b[0m\u001b[0mdict\u001b[0m\u001b[1;33m)\u001b[0m \u001b[1;31m#the desired output is this sorted dictionary\u001b[0m\u001b[1;33m\u001b[0m\u001b[1;33m\u001b[0m\u001b[0m\n",
      "\u001b[1;31mTypeError\u001b[0m: 'dict' object is not callable"
     ]
    }
   ],
   "source": [
    "#Sort dictionary in ascending and descending order.\n",
    "\n",
    "n=int(input(\"enter a number of elements in the dict: \"))\n",
    "my_dict = {}\n",
    "for i in range (n):\n",
    "    key=input(\"Enter key :\")\n",
    "    value=input(\"Enter values :\")\n",
    "    my_dict.update({key: value})\n",
    "print(my_dict)  \n",
    "\n",
    "y=my_dict\n",
    "l=list(y.items())  \n",
    "l.sort()            #sort the list\n",
    "print('Ascending order is',l) \n",
    "\n",
    "l=list(y.items())\n",
    "l.sort(reverse=True) #sort in reverse order\n",
    "print('Descending order is',l)\n"
   ]
  },
  {
   "cell_type": "code",
   "execution_count": 2,
   "metadata": {},
   "outputs": [
    {
     "name": "stdin",
     "output_type": "stream",
     "text": [
      "enter a number of elements in the dict:  4\n",
      "Enter key : 1\n",
      "Enter values : 56\n",
      "Enter key : 3\n",
      "Enter values : 60\n",
      "Enter key : 5\n",
      "Enter values : rf\n",
      "Enter key : 2\n",
      "Enter values : 80\n"
     ]
    },
    {
     "name": "stdout",
     "output_type": "stream",
     "text": [
      "{'1': '56', '3': '60', '5': 'rf', '2': '80'}\n"
     ]
    }
   ],
   "source": [
    "n=int(input(\"enter a number of elements in the dict: \"))\n",
    "my_dict = {}\n",
    "for i in range (n):\n",
    "    key=input(\"Enter key :\")\n",
    "    value=input(\"Enter values :\")\n",
    "    my_dict.update({key: value})\n",
    "print(my_dict)"
   ]
  },
  {
   "cell_type": "code",
   "execution_count": null,
   "metadata": {},
   "outputs": [],
   "source": []
  }
 ],
 "metadata": {
  "kernelspec": {
   "display_name": "Python 3",
   "language": "python",
   "name": "python3"
  },
  "language_info": {
   "codemirror_mode": {
    "name": "ipython",
    "version": 3
   },
   "file_extension": ".py",
   "mimetype": "text/x-python",
   "name": "python",
   "nbconvert_exporter": "python",
   "pygments_lexer": "ipython3",
   "version": "3.7.3"
  }
 },
 "nbformat": 4,
 "nbformat_minor": 2
}
